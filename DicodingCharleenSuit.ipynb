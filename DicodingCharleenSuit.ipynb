{
  "nbformat": 4,
  "nbformat_minor": 0,
  "metadata": {
    "colab": {
      "name": "DicodingCharleenSuit.ipynb",
      "provenance": [],
      "collapsed_sections": [],
      "authorship_tag": "ABX9TyOxq0DTD3uaVHae0haOnqjl",
      "include_colab_link": true
    },
    "kernelspec": {
      "name": "python3",
      "display_name": "Python 3"
    }
  },
  "cells": [
    {
      "cell_type": "markdown",
      "metadata": {
        "id": "view-in-github",
        "colab_type": "text"
      },
      "source": [
        "<a href=\"https://colab.research.google.com/github/Chrln165/cookie/blob/master/DicodingCharleenSuit.ipynb\" target=\"_parent\"><img src=\"https://colab.research.google.com/assets/colab-badge.svg\" alt=\"Open In Colab\"/></a>"
      ]
    },
    {
      "cell_type": "markdown",
      "metadata": {
        "id": "S_IYpKLr8V21"
      },
      "source": [
        "Nama: Charleen\n",
        "\n",
        "Alamat: Jakarta Barat (DKI Jakarta)\n",
        "\n",
        "Email: charleench165@gmail.com\n",
        "\n",
        "TTL: 16 Mei 2001\n",
        "\n",
        "Berikut submission saya untuk program Belajar Machine Learning Untuk Pemula dari Dicoding."
      ]
    },
    {
      "cell_type": "code",
      "metadata": {
        "id": "73wjITCB8QLw",
        "colab": {
          "base_uri": "https://localhost:8080/"
        },
        "outputId": "9e4d71de-c3d3-43b7-99e4-1d8028296ac2"
      },
      "source": [
        "!wget --no-check-certificate \\\n",
        "https://dicodingacademy.blob.core.windows.net/picodiploma/ml_pemula_academy/rockpaperscissors.zip \\\n",
        "  -O /tmp/rockpaperscissors.zip"
      ],
      "execution_count": null,
      "outputs": [
        {
          "output_type": "stream",
          "text": [
            "--2020-11-03 16:30:12--  https://dicodingacademy.blob.core.windows.net/picodiploma/ml_pemula_academy/rockpaperscissors.zip\n",
            "Resolving dicodingacademy.blob.core.windows.net (dicodingacademy.blob.core.windows.net)... 52.239.197.36\n",
            "Connecting to dicodingacademy.blob.core.windows.net (dicodingacademy.blob.core.windows.net)|52.239.197.36|:443... connected.\n",
            "HTTP request sent, awaiting response... 200 OK\n",
            "Length: 322873683 (308M) [application/zip]\n",
            "Saving to: ‘/tmp/rockpaperscissors.zip’\n",
            "\n",
            "/tmp/rockpapersciss 100%[===================>] 307.92M  3.34MB/s    in 47s     \n",
            "\n",
            "2020-11-03 16:31:00 (6.59 MB/s) - ‘/tmp/rockpaperscissors.zip’ saved [322873683/322873683]\n",
            "\n"
          ],
          "name": "stdout"
        }
      ]
    },
    {
      "cell_type": "code",
      "metadata": {
        "id": "RXXehMbw8Vk8"
      },
      "source": [
        "import tensorflow as tf\n",
        "from tensorflow.keras.optimizers import RMSprop\n",
        "from tensorflow.keras.preprocessing.image import ImageDataGenerator\n",
        "from sklearn.model_selection import train_test_split"
      ],
      "execution_count": null,
      "outputs": []
    },
    {
      "cell_type": "code",
      "metadata": {
        "id": "OLmceXeR8qg-"
      },
      "source": [
        "import os"
      ],
      "execution_count": null,
      "outputs": []
    },
    {
      "cell_type": "code",
      "metadata": {
        "id": "OfN87wSi8tR2"
      },
      "source": [
        "import zipfile\n",
        "local_zip = '/tmp/rockpaperscissors.zip'\n",
        "zip_ref = zipfile.ZipFile(local_zip, 'r')\n",
        "zip_ref.extractall('/tmp')\n",
        "zip_ref.close()"
      ],
      "execution_count": null,
      "outputs": []
    },
    {
      "cell_type": "code",
      "metadata": {
        "id": "b4kXxhr88wmQ",
        "colab": {
          "base_uri": "https://localhost:8080/"
        },
        "outputId": "c9bc7c44-2e80-46a3-cf70-88aaecd0aa5a"
      },
      "source": [
        "os.listdir('/tmp/rockpaperscissors')"
      ],
      "execution_count": null,
      "outputs": [
        {
          "output_type": "execute_result",
          "data": {
            "text/plain": [
              "['rps-cv-images', 'rock', 'paper', 'README_rpc-cv-images.txt', 'scissors']"
            ]
          },
          "metadata": {
            "tags": []
          },
          "execution_count": 5
        }
      ]
    },
    {
      "cell_type": "code",
      "metadata": {
        "id": "bW10Lz5R8zEg",
        "colab": {
          "base_uri": "https://localhost:8080/"
        },
        "outputId": "f3e67a77-d93f-4984-a0cd-34d8ee336ab5"
      },
      "source": [
        "len(os.listdir('/tmp/rockpaperscissors/rock'))"
      ],
      "execution_count": null,
      "outputs": [
        {
          "output_type": "execute_result",
          "data": {
            "text/plain": [
              "726"
            ]
          },
          "metadata": {
            "tags": []
          },
          "execution_count": 6
        }
      ]
    },
    {
      "cell_type": "code",
      "metadata": {
        "id": "Dyt6d7nA81zb",
        "colab": {
          "base_uri": "https://localhost:8080/"
        },
        "outputId": "49c57e45-d3f2-4f6e-c2bf-7074d2c83f11"
      },
      "source": [
        "len(os.listdir('/tmp/rockpaperscissors/scissors'))"
      ],
      "execution_count": null,
      "outputs": [
        {
          "output_type": "execute_result",
          "data": {
            "text/plain": [
              "750"
            ]
          },
          "metadata": {
            "tags": []
          },
          "execution_count": 7
        }
      ]
    },
    {
      "cell_type": "code",
      "metadata": {
        "id": "FsBe3rl684HH",
        "colab": {
          "base_uri": "https://localhost:8080/"
        },
        "outputId": "69f21e0c-2bec-4683-980e-fd1bba881320"
      },
      "source": [
        "len(os.listdir('/tmp/rockpaperscissors/paper'))"
      ],
      "execution_count": null,
      "outputs": [
        {
          "output_type": "execute_result",
          "data": {
            "text/plain": [
              "712"
            ]
          },
          "metadata": {
            "tags": []
          },
          "execution_count": 8
        }
      ]
    },
    {
      "cell_type": "code",
      "metadata": {
        "id": "D-0TfCtJ86v4"
      },
      "source": [
        "dirBase = '/tmp/rockpaperscissors'\n",
        "dirTrain = os.path.join(dirBase, 'train')\n",
        "dirVal = os.path.join(dirBase, 'val')"
      ],
      "execution_count": null,
      "outputs": []
    },
    {
      "cell_type": "code",
      "metadata": {
        "id": "TY_9vfFC89Br"
      },
      "source": [
        "os.mkdir(dirTrain)\n",
        "os.mkdir(dirVal)"
      ],
      "execution_count": null,
      "outputs": []
    },
    {
      "cell_type": "code",
      "metadata": {
        "id": "NF0YHwy_8--f"
      },
      "source": [
        "dirRock = os.path.join(dirBase, 'rock')\n",
        "dirScissors = os.path.join(dirBase, 'scissors')\n",
        "dirPaper = os.path.join(dirBase, 'paper')"
      ],
      "execution_count": null,
      "outputs": []
    },
    {
      "cell_type": "code",
      "metadata": {
        "id": "X9FBbQwL9BDW"
      },
      "source": [
        "#pecah jd train & validation\n",
        "Train_dirRock, Val_dirRock = train_test_split(os.listdir(dirRock), test_size = 0.4)"
      ],
      "execution_count": null,
      "outputs": []
    },
    {
      "cell_type": "code",
      "metadata": {
        "id": "el1mQPB69Dw-"
      },
      "source": [
        "Train_dirScissors, Val_dirScissors = train_test_split(os.listdir(dirScissors), test_size = 0.4)"
      ],
      "execution_count": null,
      "outputs": []
    },
    {
      "cell_type": "code",
      "metadata": {
        "id": "0jx-n-IC9F4e"
      },
      "source": [
        "Train_dirPaper, Val_dirPaper = train_test_split(os.listdir(dirPaper), test_size = 0.4)"
      ],
      "execution_count": null,
      "outputs": []
    },
    {
      "cell_type": "code",
      "metadata": {
        "id": "HR5PaTR89Hzw"
      },
      "source": [
        "TrainRock = os.path.join(dirTrain, 'rock')\n",
        "TrainScissors = os.path.join(dirTrain, 'scissors')\n",
        "TrainPaper = os.path.join(dirTrain, 'paper')"
      ],
      "execution_count": null,
      "outputs": []
    },
    {
      "cell_type": "code",
      "metadata": {
        "id": "YclCVK5P9J4H"
      },
      "source": [
        "ValRock = os.path.join(dirVal, 'rock')\n",
        "ValScissors = os.path.join(dirVal, 'scissors')\n",
        "ValPaper = os.path.join(dirVal, 'paper')"
      ],
      "execution_count": null,
      "outputs": []
    },
    {
      "cell_type": "code",
      "metadata": {
        "id": "3Z8DIvCu9MBr"
      },
      "source": [
        "#bikin directory dalam train dan validation\n",
        "if not os.path.exists(TrainRock): os.mkdir(TrainRock)\n",
        "if not os.path.exists(TrainScissors): os.mkdir(TrainScissors)\n",
        "if not os.path.exists(TrainPaper): os.mkdir(TrainPaper)"
      ],
      "execution_count": null,
      "outputs": []
    },
    {
      "cell_type": "code",
      "metadata": {
        "id": "xTMKTWkt9OqS"
      },
      "source": [
        "if not os.path.exists(ValRock): os.mkdir(ValRock)\n",
        "if not os.path.exists(ValScissors): os.mkdir(ValScissors)\n",
        "if not os.path.exists(ValPaper): os.mkdir(ValPaper)"
      ],
      "execution_count": null,
      "outputs": []
    },
    {
      "cell_type": "code",
      "metadata": {
        "id": "na4UCNiD9Qpq"
      },
      "source": [
        "import shutil"
      ],
      "execution_count": null,
      "outputs": []
    },
    {
      "cell_type": "code",
      "metadata": {
        "id": "7FiyLyFD9UQG"
      },
      "source": [
        "#copy data ke directory baru\n",
        "for x in Train_dirRock:\n",
        "  shutil.copy(os.path.join(dirRock, x), \n",
        "              os.path.join(TrainRock, x))\n",
        "for x in Train_dirScissors:\n",
        "  shutil.copy(os.path.join(dirScissors, x), \n",
        "              os.path.join(TrainScissors, x))  \n",
        "for x in Train_dirPaper:\n",
        "  shutil.copy(os.path.join(dirPaper, x), \n",
        "              os.path.join(TrainPaper, x)) "
      ],
      "execution_count": null,
      "outputs": []
    },
    {
      "cell_type": "code",
      "metadata": {
        "id": "w_orhrVo9WzA"
      },
      "source": [
        "for x in Val_dirRock:\n",
        "  shutil.copy(os.path.join(dirRock, x), \n",
        "              os.path.join(ValRock, x))\n",
        "for x in Val_dirScissors:\n",
        "  shutil.copy(os.path.join(dirScissors, x), \n",
        "              os.path.join(ValScissors, x))  \n",
        "for x in Val_dirPaper:\n",
        "  shutil.copy(os.path.join(dirPaper, x), \n",
        "              os.path.join(ValPaper, x))"
      ],
      "execution_count": null,
      "outputs": []
    },
    {
      "cell_type": "markdown",
      "metadata": {
        "id": "fS8_KrnqBc27"
      },
      "source": [
        "bagian ini saya mencontoh **latihan membuat klasifikasi gambar** dari **dicoding**, jadi mungkin terdapat kesamaan. mohon dimaklumi."
      ]
    },
    {
      "cell_type": "code",
      "metadata": {
        "id": "PWGJJzk19ZLZ"
      },
      "source": [
        "# data img generator\n",
        "train_datagen = ImageDataGenerator(\n",
        "    rescale = 1./225,\n",
        "    horizontal_flip = True,\n",
        "    rotation_range = 20,\n",
        "    fill_mode = 'nearest',\n",
        "    shear_range = 0.2,\n",
        "    zoom_range = 0.2)"
      ],
      "execution_count": null,
      "outputs": []
    },
    {
      "cell_type": "code",
      "metadata": {
        "id": "xAqkQG-L9bfE"
      },
      "source": [
        "val_datagen = ImageDataGenerator(\n",
        "    rescale = 1./225,\n",
        "    horizontal_flip = True,\n",
        "    rotation_range = 20,\n",
        "    fill_mode = 'nearest',\n",
        "    shear_range = 0.2,\n",
        "    zoom_range = 0.2)"
      ],
      "execution_count": null,
      "outputs": []
    },
    {
      "cell_type": "code",
      "metadata": {
        "id": "Z6nyCHY99dwY",
        "colab": {
          "base_uri": "https://localhost:8080/"
        },
        "outputId": "2e3bb648-4f01-4729-adac-9ad4cffe4490"
      },
      "source": [
        "train_generator = train_datagen.flow_from_directory(\n",
        "    dirTrain,\n",
        "    target_size = (150,150),\n",
        "    batch_size = 32,\n",
        "    class_mode = 'categorical')"
      ],
      "execution_count": null,
      "outputs": [
        {
          "output_type": "stream",
          "text": [
            "Found 1312 images belonging to 3 classes.\n"
          ],
          "name": "stdout"
        }
      ]
    },
    {
      "cell_type": "code",
      "metadata": {
        "id": "YkTEWOrE9kjo",
        "colab": {
          "base_uri": "https://localhost:8080/"
        },
        "outputId": "6b2f4042-f74b-4d42-835a-61db1bc8d007"
      },
      "source": [
        "val_generator = val_datagen.flow_from_directory(\n",
        "    dirVal,\n",
        "    target_size = (150,150),\n",
        "    batch_size = 32,\n",
        "    class_mode = 'categorical')"
      ],
      "execution_count": null,
      "outputs": [
        {
          "output_type": "stream",
          "text": [
            "Found 876 images belonging to 3 classes.\n"
          ],
          "name": "stdout"
        }
      ]
    },
    {
      "cell_type": "code",
      "metadata": {
        "id": "6eOo9lUn9mTI"
      },
      "source": [
        "model = tf.keras.models.Sequential(\n",
        "  [tf.keras.layers.Conv2D(32, \n",
        "                         (3,3), \n",
        "                         activation = 'relu', \n",
        "                         input_shape = (150,150,3)), \n",
        "  tf.keras.layers.MaxPooling2D(2,2),\n",
        "  tf.keras.layers.Conv2D(64, \n",
        "                         (3,3), \n",
        "                         activation = 'relu'), \n",
        "  tf.keras.layers.MaxPooling2D(2,2), \n",
        "  tf.keras.layers.Conv2D(128, \n",
        "                         (3,3), \n",
        "                         activation = 'relu'), \n",
        "  tf.keras.layers.MaxPooling2D(2,2), \n",
        "  tf.keras.layers.Conv2D(256, \n",
        "                         (3,3), \n",
        "                         activation = 'relu'), \n",
        "  tf.keras.layers.MaxPooling2D(2,2), \n",
        "  tf.keras.layers.Flatten(), \n",
        "  tf.keras.layers.Dense(512, \n",
        "                        activation = 'relu'), \n",
        "  tf.keras.layers.Dense(3, \n",
        "                        activation = 'softmax')]\n",
        "  )"
      ],
      "execution_count": null,
      "outputs": []
    },
    {
      "cell_type": "code",
      "metadata": {
        "id": "T1bceKu8-BwP"
      },
      "source": [
        "model.compile(metrics = ['accuracy'], \n",
        "              loss = 'categorical_crossentropy', \n",
        "              optimizer = tf.optimizers.Adam())"
      ],
      "execution_count": null,
      "outputs": []
    },
    {
      "cell_type": "code",
      "metadata": {
        "id": "MAdsVZbO9-hx",
        "colab": {
          "base_uri": "https://localhost:8080/"
        },
        "outputId": "8f27940a-b94e-4142-eec3-d5efae0f2383"
      },
      "source": [
        "history = model.fit(\n",
        "    train_generator, \n",
        "    steps_per_epoch = 25, \n",
        "    epochs = 20, \n",
        "    validation_data = val_generator, \n",
        "    validation_steps = 5, \n",
        "    verbose = 2)"
      ],
      "execution_count": null,
      "outputs": [
        {
          "output_type": "stream",
          "text": [
            "Epoch 1/20\n",
            "25/25 - 43s - loss: 1.1606 - accuracy: 0.3262 - val_loss: 1.0942 - val_accuracy: 0.3063\n",
            "Epoch 2/20\n",
            "25/25 - 46s - loss: 0.9676 - accuracy: 0.5200 - val_loss: 0.8088 - val_accuracy: 0.7125\n",
            "Epoch 3/20\n",
            "25/25 - 43s - loss: 0.4946 - accuracy: 0.8313 - val_loss: 0.2990 - val_accuracy: 0.8938\n",
            "Epoch 4/20\n",
            "25/25 - 43s - loss: 0.3536 - accuracy: 0.8662 - val_loss: 0.3510 - val_accuracy: 0.8500\n",
            "Epoch 5/20\n",
            "25/25 - 43s - loss: 0.2949 - accuracy: 0.8938 - val_loss: 0.3273 - val_accuracy: 0.8938\n",
            "Epoch 6/20\n",
            "25/25 - 42s - loss: 0.2887 - accuracy: 0.8913 - val_loss: 0.1818 - val_accuracy: 0.9250\n",
            "Epoch 7/20\n",
            "25/25 - 43s - loss: 0.2127 - accuracy: 0.9237 - val_loss: 0.2278 - val_accuracy: 0.9250\n",
            "Epoch 8/20\n",
            "25/25 - 43s - loss: 0.1893 - accuracy: 0.9450 - val_loss: 0.1151 - val_accuracy: 0.9500\n",
            "Epoch 9/20\n",
            "25/25 - 43s - loss: 0.2070 - accuracy: 0.9337 - val_loss: 0.1417 - val_accuracy: 0.9500\n",
            "Epoch 10/20\n",
            "25/25 - 43s - loss: 0.1372 - accuracy: 0.9638 - val_loss: 0.0991 - val_accuracy: 0.9563\n",
            "Epoch 11/20\n",
            "25/25 - 42s - loss: 0.1523 - accuracy: 0.9450 - val_loss: 0.1629 - val_accuracy: 0.9438\n",
            "Epoch 12/20\n",
            "25/25 - 42s - loss: 0.0858 - accuracy: 0.9762 - val_loss: 0.0737 - val_accuracy: 0.9812\n",
            "Epoch 13/20\n",
            "25/25 - 42s - loss: 0.1111 - accuracy: 0.9550 - val_loss: 0.0858 - val_accuracy: 0.9750\n",
            "Epoch 14/20\n",
            "25/25 - 42s - loss: 0.0683 - accuracy: 0.9762 - val_loss: 0.0859 - val_accuracy: 0.9750\n",
            "Epoch 15/20\n",
            "25/25 - 46s - loss: 0.0719 - accuracy: 0.9775 - val_loss: 0.0220 - val_accuracy: 0.9937\n",
            "Epoch 16/20\n",
            "25/25 - 42s - loss: 0.0745 - accuracy: 0.9675 - val_loss: 0.1182 - val_accuracy: 0.9500\n",
            "Epoch 17/20\n",
            "25/25 - 42s - loss: 0.0828 - accuracy: 0.9700 - val_loss: 0.1042 - val_accuracy: 0.9625\n",
            "Epoch 18/20\n",
            "25/25 - 42s - loss: 0.0598 - accuracy: 0.9800 - val_loss: 0.1171 - val_accuracy: 0.9563\n",
            "Epoch 19/20\n",
            "25/25 - 42s - loss: 0.0534 - accuracy: 0.9825 - val_loss: 0.0600 - val_accuracy: 0.9875\n",
            "Epoch 20/20\n",
            "25/25 - 42s - loss: 0.0532 - accuracy: 0.9887 - val_loss: 0.0213 - val_accuracy: 0.9875\n"
          ],
          "name": "stdout"
        }
      ]
    },
    {
      "cell_type": "code",
      "metadata": {
        "id": "d1bkVsub-RDY",
        "colab": {
          "resources": {
            "http://localhost:8080/nbextensions/google.colab/files.js": {
              "data": "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",
              "ok": true,
              "headers": [
                [
                  "content-type",
                  "application/javascript"
                ]
              ],
              "status": 200,
              "status_text": ""
            }
          },
          "base_uri": "https://localhost:8080/",
          "height": 360
        },
        "outputId": "308c8719-5cec-4f1a-ddb4-0e2212d56186"
      },
      "source": [
        "import numpy as np\n",
        "from google.colab import files\n",
        "from keras.preprocessing import image\n",
        "import matplotlib.pyplot as plt\n",
        "import matplotlib.image as mpimg\n",
        "%matplotlib inline\n",
        " \n",
        "uploaded = files.upload()\n",
        "for fn in uploaded.keys():\n",
        "  path = fn\n",
        "  img = image.load_img(path, target_size=(150, 150))\n",
        "  imgplot = plt.imshow(img)\n",
        "  x = image.img_to_array(img)\n",
        "  x = np.expand_dims(x, axis = 0)\n",
        "  images = np.vstack([x])\n",
        "  classes = model.predict(images, batch_size = 10)\n",
        "  \n",
        "  print(fn)\n",
        "  if classes[0,0] != 0:\n",
        "    print('paper')\n",
        "  elif classes[0,1] != 0:\n",
        "    print('rock')\n",
        "  else:\n",
        "    print('scissors')"
      ],
      "execution_count": null,
      "outputs": [
        {
          "output_type": "display_data",
          "data": {
            "text/html": [
              "\n",
              "     <input type=\"file\" id=\"files-e1fb7e91-901b-44a5-8c73-b49fe467aa74\" name=\"files[]\" multiple disabled\n",
              "        style=\"border:none\" />\n",
              "     <output id=\"result-e1fb7e91-901b-44a5-8c73-b49fe467aa74\">\n",
              "      Upload widget is only available when the cell has been executed in the\n",
              "      current browser session. Please rerun this cell to enable.\n",
              "      </output>\n",
              "      <script src=\"/nbextensions/google.colab/files.js\"></script> "
            ],
            "text/plain": [
              "<IPython.core.display.HTML object>"
            ]
          },
          "metadata": {
            "tags": []
          }
        },
        {
          "output_type": "stream",
          "text": [
            "Saving 1042420.jpg to 1042420.jpg\n",
            "1042420.jpg\n",
            "paper\n"
          ],
          "name": "stdout"
        },
        {
          "output_type": "display_data",
          "data": {
            "image/png": "[encoded data removed]",
            "text/plain": [
              "<Figure size 432x288 with 1 Axes>"
            ]
          },
          "metadata": {
            "tags": [],
            "needs_background": "light"
          }
        }
      ]
    },
    {
      "cell_type": "markdown",
      "metadata": {
        "id": "IJ4yKj4wCWey"
      },
      "source": [
        "Sekian jawaban ini saya lampirkan, mohon dimaklumi apabila ada kesalahan. Terima kasih banyak kak, semoga selalu diberkati."
      ]
    }
  ]
}